{
 "cells": [
  {
   "cell_type": "markdown",
   "id": "82e2b59c",
   "metadata": {},
   "source": [
    "# 熵在机器学习中的应用\n",
    "\n",
    "## 类（Class）和对象（Object）\n",
    "\n",
    "对象是将变量和函数封装到单个实体中。 对象从类中获取它们的变量和函数。 类本质上是创建对象的模板。\n",
    "\n",
    "一个非常基本的类看起来像这样："
   ]
  },
  {
   "cell_type": "code",
   "execution_count": 1,
   "id": "896d4fb5",
   "metadata": {},
   "outputs": [],
   "source": [
    "class MyClass:\n",
    "    variable = \"blah\"\n",
    "\n",
    "    def function(self):\n",
    "        print(\"This is a message inside the class.\")"
   ]
  },
  {
   "cell_type": "markdown",
   "id": "728e81b3",
   "metadata": {},
   "source": [
    "稍后我们将解释为什么必须将“self”作为参数包含在内。 首先，要将上述类（模板）分配给一个对象，您需要执行以下操作："
   ]
  },
  {
   "cell_type": "code",
   "execution_count": 2,
   "id": "7dfe33f4",
   "metadata": {},
   "outputs": [],
   "source": [
    "class MyClass:\n",
    "    variable = \"blah\"\n",
    "\n",
    "    def function(self):\n",
    "        print(\"This is a message inside the class.\")\n",
    "\n",
    "myobjectx = MyClass()"
   ]
  },
  {
   "cell_type": "markdown",
   "id": "73623f8a",
   "metadata": {},
   "source": [
    "现在，变量`myobjectx`保存了`MyClass`类的对象，该对象包含在名为`MyClass`的类中定义的变量和函数。"
   ]
  },
  {
   "cell_type": "markdown",
   "id": "1abd0ced",
   "metadata": {},
   "source": [
    "### 访问对象变量\n",
    "要访问新创建的对象`myobjectx`中的变量，您可以执行以下操作："
   ]
  },
  {
   "cell_type": "code",
   "execution_count": 3,
   "id": "222be53f",
   "metadata": {},
   "outputs": [
    {
     "data": {
      "text/plain": [
       "'blah'"
      ]
     },
     "execution_count": 3,
     "metadata": {},
     "output_type": "execute_result"
    }
   ],
   "source": [
    "class MyClass:\n",
    "    variable = \"blah\"\n",
    "\n",
    "    def function(self):\n",
    "        print(\"This is a message inside the class.\")\n",
    "\n",
    "myobjectx = MyClass()\n",
    "\n",
    "myobjectx.variable"
   ]
  },
  {
   "cell_type": "markdown",
   "id": "bd17d112",
   "metadata": {},
   "source": [
    "例如下面将输出字符串“blah”："
   ]
  },
  {
   "cell_type": "code",
   "execution_count": 4,
   "id": "cfcf9a25",
   "metadata": {},
   "outputs": [
    {
     "name": "stdout",
     "output_type": "stream",
     "text": [
      "blah\n"
     ]
    }
   ],
   "source": [
    "class MyClass:\n",
    "    variable = \"blah\"\n",
    "\n",
    "    def function(self):\n",
    "        print(\"This is a message inside the class.\")\n",
    "\n",
    "myobjectx = MyClass()\n",
    "\n",
    "print(myobjectx.variable)"
   ]
  },
  {
   "cell_type": "markdown",
   "id": "530db79e",
   "metadata": {},
   "source": [
    "您可以创建多个属于同一类的不同对象（定义了相同的变量和函数）。 \n",
    "但是，每个对象都包含类中定义的变量的独立副本。 \n",
    "例如，如果我们要使用`MyClass`类定义另一个对象，然后更改上面变量中的字符串："
   ]
  },
  {
   "cell_type": "code",
   "execution_count": 5,
   "id": "3f75dc3e",
   "metadata": {},
   "outputs": [
    {
     "name": "stdout",
     "output_type": "stream",
     "text": [
      "blah\n",
      "yackity\n"
     ]
    }
   ],
   "source": [
    "class MyClass:\n",
    "    variable = \"blah\"\n",
    "\n",
    "    def function(self):\n",
    "        print(\"This is a message inside the class.\")\n",
    "\n",
    "myobjectx = MyClass()\n",
    "myobjecty = MyClass()\n",
    "\n",
    "myobjecty.variable = \"yackity\"\n",
    "\n",
    "# Then print out both values\n",
    "print(myobjectx.variable)\n",
    "print(myobjecty.variable)"
   ]
  },
  {
   "cell_type": "markdown",
   "id": "ccbd673b",
   "metadata": {},
   "source": [
    "### 访问对象函数\n",
    "要访问对象内部的函数，您可以使用类似于访问变量的符号："
   ]
  },
  {
   "cell_type": "code",
   "execution_count": 6,
   "id": "5a411a73",
   "metadata": {},
   "outputs": [
    {
     "name": "stdout",
     "output_type": "stream",
     "text": [
      "This is a message inside the class.\n"
     ]
    }
   ],
   "source": [
    "class MyClass:\n",
    "    variable = \"blah\"\n",
    "\n",
    "    def function(self):\n",
    "        print(\"This is a message inside the class.\")\n",
    "\n",
    "myobjectx = MyClass()\n",
    "\n",
    "myobjectx.function()"
   ]
  },
  {
   "cell_type": "markdown",
   "id": "b2eefdaa",
   "metadata": {},
   "source": [
    "上面会打印出消息，“This is a message inside the class.”\n",
    "\n",
    "### `__init__()`\n",
    "`__init__()` 函数是一个特殊函数，在启动类时调用。 它用于在类中分配值。"
   ]
  },
  {
   "cell_type": "code",
   "execution_count": 7,
   "id": "6044f7c9",
   "metadata": {},
   "outputs": [],
   "source": [
    "class NumberHolder:\n",
    "\n",
    "   def __init__(self, number):\n",
    "       self.number = number\n",
    "        "
   ]
  },
  {
   "cell_type": "code",
   "execution_count": 8,
   "id": "ff72221f",
   "metadata": {},
   "outputs": [
    {
     "name": "stdout",
     "output_type": "stream",
     "text": [
      "name: John\n",
      "age: 15\n",
      "John 15\n"
     ]
    }
   ],
   "source": [
    "class Student:\n",
    "    variable = \"blah\"\n",
    "    \n",
    "    def __init__(self, name, age):\n",
    "        self.student_name = name\n",
    "        self.student_age = age\n",
    "        self.print_information()\n",
    "        \n",
    "\n",
    "    def print_information(self):\n",
    "        print(\"name:\", self.student_name)\n",
    "        print(\"age:\", self.student_age)\n",
    "\n",
    "a_student = Student(\"John\", 15)\n",
    "print(a_student.student_name, a_student.student_age)\n"
   ]
  },
  {
   "cell_type": "markdown",
   "id": "74095cd9",
   "metadata": {},
   "source": [
    "## 字典（Dictionary）\n",
    "字典是一种类似于数组的数据类型，但使用键和值而不是索引。 \n",
    "存储在字典中的每个值都可以使用键来访问，键是任何类型的对象（字符串、数字、列表等），而不是使用其索引来寻址它。\n",
    "\n",
    "例如，电话号码数据库可以使用这样的字典来存储："
   ]
  },
  {
   "cell_type": "code",
   "execution_count": 9,
   "id": "7981bb1a",
   "metadata": {},
   "outputs": [
    {
     "name": "stdout",
     "output_type": "stream",
     "text": [
      "{'John': 938477566, 'Jack': 938377264, 'Jill': 947662781}\n"
     ]
    }
   ],
   "source": [
    "phonebook = {}\n",
    "phonebook[\"John\"] = 938477566\n",
    "phonebook[\"Jack\"] = 938377264\n",
    "phonebook[\"Jill\"] = 947662781\n",
    "print(phonebook)"
   ]
  },
  {
   "cell_type": "markdown",
   "id": "fc3f01a5",
   "metadata": {},
   "source": [
    "或者，可以使用以下符号中的相同值初始化字典："
   ]
  },
  {
   "cell_type": "code",
   "execution_count": 10,
   "id": "156ea229",
   "metadata": {},
   "outputs": [
    {
     "name": "stdout",
     "output_type": "stream",
     "text": [
      "{'John': 938477566, 'Jack': 938377264, 'Jill': 947662781}\n"
     ]
    }
   ],
   "source": [
    "phonebook = {\n",
    "    \"John\" : 938477566,\n",
    "    \"Jack\" : 938377264,\n",
    "    \"Jill\" : 947662781\n",
    "}\n",
    "print(phonebook)"
   ]
  },
  {
   "cell_type": "markdown",
   "id": "3b8c19f6",
   "metadata": {},
   "source": [
    "### 遍历字典\n",
    "字典可以迭代，就像列表一样。 但是，字典与列表不同，它不会保持存储在其中的值的顺序。 要迭代键值对，请使用以下语法："
   ]
  },
  {
   "cell_type": "code",
   "execution_count": 11,
   "id": "b5a68ee5",
   "metadata": {},
   "outputs": [
    {
     "name": "stdout",
     "output_type": "stream",
     "text": [
      "Phone number of John is 938477566\n",
      "Phone number of Jack is 938377264\n",
      "Phone number of Jill is 947662781\n"
     ]
    }
   ],
   "source": [
    "phonebook = {\"John\" : 938477566,\"Jack\" : 938377264,\"Jill\" : 947662781}\n",
    "for name, number in phonebook.items():\n",
    "    print(\"Phone number of %s is %d\" % (name, number))"
   ]
  },
  {
   "cell_type": "markdown",
   "id": "d3bc171c",
   "metadata": {},
   "source": [
    "### 删除值\n",
    "要删除指定的索引，请使用以下任一表示法： "
   ]
  },
  {
   "cell_type": "code",
   "execution_count": 12,
   "id": "c1ec8617",
   "metadata": {},
   "outputs": [
    {
     "name": "stdout",
     "output_type": "stream",
     "text": [
      "{'Jack': 938377264, 'Jill': 947662781}\n"
     ]
    }
   ],
   "source": [
    "phonebook = {\n",
    "   \"John\" : 938477566,\n",
    "   \"Jack\" : 938377264,\n",
    "   \"Jill\" : 947662781\n",
    "}\n",
    "del phonebook[\"John\"]\n",
    "print(phonebook)"
   ]
  },
  {
   "cell_type": "markdown",
   "id": "4d3bc068",
   "metadata": {},
   "source": [
    "或"
   ]
  },
  {
   "cell_type": "code",
   "execution_count": 13,
   "id": "ac9666ba",
   "metadata": {},
   "outputs": [
    {
     "name": "stdout",
     "output_type": "stream",
     "text": [
      "{'Jack': 938377264, 'Jill': 947662781}\n"
     ]
    }
   ],
   "source": [
    "phonebook = {\n",
    "   \"John\" : 938477566,\n",
    "   \"Jack\" : 938377264,\n",
    "   \"Jill\" : 947662781\n",
    "}\n",
    "phonebook.pop(\"John\")\n",
    "print(phonebook)"
   ]
  },
  {
   "cell_type": "markdown",
   "id": "98aca12b",
   "metadata": {},
   "source": [
    "## Numpy 数组\n",
    "\n",
    "Numpy 数组是 Python 列表的绝佳替代品。 \n",
    "Numpy 数组的一些关键优势是它们速度快、易于使用，并且让用户有机会跨整个数组执行计算。\n",
    "\n",
    "在以下示例中，您将首先创建两个 Python 列表。 然后，您将导入 numpy 包并从新创建的列表中创建 numpy 数组。 "
   ]
  },
  {
   "cell_type": "code",
   "execution_count": 14,
   "id": "fffe400d",
   "metadata": {},
   "outputs": [],
   "source": [
    "# Import the numpy package as np\n",
    "import numpy as np\n",
    "\n",
    "# Create 2 new lists height and weight\n",
    "height = [1.87,  1.87, 1.82, 1.91, 1.90, 1.85]\n",
    "weight = [81.65, 97.52, 95.25, 92.98, 86.18, 88.45]\n",
    "\n",
    "# Create 2 numpy arrays from height and weight\n",
    "np_height = np.array(height)\n",
    "np_weight = np.array(weight)"
   ]
  },
  {
   "cell_type": "markdown",
   "id": "c1b300c2",
   "metadata": {},
   "source": [
    "逐元素计算\n",
    "现在我们可以对身高和体重进行逐元素计算。 \n",
    "例如，您可以获取上述所有 6 个身高和体重观测值，并使用单个方程计算每个观测值的 BMI。 \n",
    "这些操作非常快速且计算高效。 当您的数据中有 1000 个观察值时，它们特别有用。"
   ]
  },
  {
   "cell_type": "code",
   "execution_count": 15,
   "id": "ff2a3b7b",
   "metadata": {},
   "outputs": [
    {
     "name": "stdout",
     "output_type": "stream",
     "text": [
      "[23.34925219 27.88755755 28.75558507 25.48723993 23.87257618 25.84368152]\n"
     ]
    }
   ],
   "source": [
    "# Calculate bmi\n",
    "bmi = np_weight / np_height ** 2\n",
    "\n",
    "# Print the result\n",
    "print(bmi)"
   ]
  },
  {
   "cell_type": "markdown",
   "id": "2d49bfda",
   "metadata": {},
   "source": [
    "### 子集\n",
    "Numpy 数组的另一个重要特性是子集化的能力。 \n",
    "例如，如果您想知道我们的 BMI 数组中哪些观察值高于 23，我们可以快速对其进行子集化以找出答案。"
   ]
  },
  {
   "cell_type": "code",
   "execution_count": 16,
   "id": "1a45caa7",
   "metadata": {},
   "outputs": [
    {
     "data": {
      "text/plain": [
       "array([23.34925219, 27.88755755, 28.75558507, 25.48723993, 23.87257618,\n",
       "       25.84368152])"
      ]
     },
     "execution_count": 16,
     "metadata": {},
     "output_type": "execute_result"
    }
   ],
   "source": [
    "# For a boolean response\n",
    "bmi > 23\n",
    "\n",
    "# Print only those observations above 23\n",
    "bmi[bmi > 23]"
   ]
  },
  {
   "cell_type": "markdown",
   "id": "a9f5b715",
   "metadata": {},
   "source": [
    "Numpy的具体教程见 `https://numpy.org/doc/stable/user/absolute_beginners.html`"
   ]
  },
  {
   "cell_type": "markdown",
   "id": "a516f6ef",
   "metadata": {},
   "source": [
    "## 练习\n",
    "\n",
    "### 决策树特征选择\n",
    "\n",
    "决策树（decision tree）是一种基本的分类与回归方法，我们这节课主要讨论用于分类的决策树。决策树呈树形结构，可认为是if-then规则的集合。\n",
    "\n",
    "决策树通常包括3个步骤：特征选择、决策树的生成河决策树的修建。本次上机我们需要完成决策树的特征选择部分。\n"
   ]
  },
  {
   "cell_type": "code",
   "execution_count": 17,
   "id": "3a515ba2",
   "metadata": {},
   "outputs": [],
   "source": [
    "dataset = [\n",
    "    {\"age\": 19, \"male\": False, \"single\": False, \"visit_library_in_Sunday\": False},\n",
    "    {\"age\": 19, \"male\": False, \"single\": False, \"visit_library_in_Sunday\": False},\n",
    "    {\"age\": 19, \"male\": True,  \"single\": False, \"visit_library_in_Sunday\": True},\n",
    "    {\"age\": 19, \"male\": True,  \"single\": True,  \"visit_library_in_Sunday\": True},\n",
    "    {\"age\": 19, \"male\": False, \"single\": False, \"visit_library_in_Sunday\": False},\n",
    "    \n",
    "    {\"age\": 20, \"male\": False, \"single\": False, \"visit_library_in_Sunday\": False},\n",
    "    {\"age\": 20, \"male\": False, \"single\": False, \"visit_library_in_Sunday\": False},\n",
    "    {\"age\": 20, \"male\": True,  \"single\": True,  \"visit_library_in_Sunday\": True},\n",
    "    {\"age\": 20, \"male\": False, \"single\": True,  \"visit_library_in_Sunday\": True},\n",
    "    {\"age\": 20, \"male\": False, \"single\": True,  \"visit_library_in_Sunday\": True},\n",
    "    \n",
    "    {\"age\": 21, \"male\": False, \"single\": True,  \"visit_library_in_Sunday\": True},\n",
    "    {\"age\": 21, \"male\": False, \"single\": True,  \"visit_library_in_Sunday\": True},\n",
    "    {\"age\": 21, \"male\": True,  \"single\": False, \"visit_library_in_Sunday\": True},\n",
    "    {\"age\": 21, \"male\": True,  \"single\": False, \"visit_library_in_Sunday\": True},\n",
    "    {\"age\": 21, \"male\": False, \"single\": False, \"visit_library_in_Sunday\": False}\n",
    "]"
   ]
  },
  {
   "cell_type": "markdown",
   "id": "12547210",
   "metadata": {},
   "source": [
    "我们希望构建一个函数，来通过学生的“年龄”、“性别”和“单身情况”，来预测学生是否周日会去图书馆。\n",
    "这个函数我们可以根据一个预先取得的数据来构建，这个数据集叫做训练数据集。\n",
    "\n",
    "如果我们希望只通过一项指标来进行判断，我们应该选哪个呢？\n",
    "例如：如果我们使用“年龄”判断，年龄大于19岁的学生周日会去图书馆。即"
   ]
  },
  {
   "cell_type": "code",
   "execution_count": 18,
   "id": "5ffe2b2c",
   "metadata": {},
   "outputs": [
    {
     "name": "stdout",
     "output_type": "stream",
     "text": [
      "Classification accuracy: 0.6666666666666666\n"
     ]
    }
   ],
   "source": [
    "def tree_example(data):\n",
    "    if data[\"age\"]>19:\n",
    "        return True\n",
    "    else:\n",
    "        return False\n",
    "    \n",
    "true_classification = 0\n",
    "    \n",
    "for data in dataset:\n",
    "    if tree_example(data) == data[\"visit_library_in_Sunday\"]:\n",
    "        true_classification += 1\n",
    "    \n",
    "print(\"Classification accuracy:\", true_classification/len(dataset))"
   ]
  },
  {
   "cell_type": "markdown",
   "id": "d7ffdb57",
   "metadata": {},
   "source": [
    "在这个数据集上，我们会得到约为0.667\\%的准确率。那如何选择指标得到最高的准确率呢？\n",
    "具体教程请见附件`exercise_2_supp.pdf`。\n",
    "\n",
    "请完成以下函数，选择最好的指标"
   ]
  },
  {
   "cell_type": "code",
   "execution_count": 3,
   "id": "a10dea1f",
   "metadata": {},
   "outputs": [
    {
     "name": "stdout",
     "output_type": "stream",
     "text": [
      "-1 should be around 0.971\n",
      "-1 should be around 0.888\n",
      "a should be single\n"
     ]
    }
   ],
   "source": [
    "import numpy as np\n",
    "\n",
    "class decision_tree:\n",
    "    def __init__(self, features, output, dataset):\n",
    "        self.features = features\n",
    "        self.output = output\n",
    "        self.dataset = dataset\n",
    "        \n",
    "    def log(self, x):\n",
    "        return np.log2(x)\n",
    "    \n",
    "    # you can use this function to calculate the empirical probability of a random variable under a dataset\n",
    "    def get_prob(self, array):\n",
    "        (unique, counts) = np.unique(array, return_counts=True)\n",
    "        return counts/len(array)\n",
    "        \n",
    "    # you can use this function to calculate the empirical entropy of a random variable under a dataset\n",
    "    def entropy(self, array):\n",
    "        p = self.get_prob(array)\n",
    "        return -np.sum(p*np.log2(p))\n",
    "    \n",
    "    def output_entropy(self):\n",
    "        # calculate the empirical entropy of the output\n",
    "        return -1\n",
    "    \n",
    "    def conditional_entropy(self, feature):\n",
    "        # calculate the empirical conditional entropy of the output relative to the \"feature\"\n",
    "        return -1\n",
    "            \n",
    "    def feature_selection(self):\n",
    "        # select the feature has maximum mutual information\n",
    "        return \"a\"\n",
    "        \n",
    "        \n",
    "        \n",
    "dataset = [\n",
    "    {\"age\": 19, \"male\": False, \"single\": False, \"visit_library_in_Sunday\": False},\n",
    "    {\"age\": 19, \"male\": False, \"single\": False, \"visit_library_in_Sunday\": False},\n",
    "    {\"age\": 19, \"male\": True,  \"single\": False, \"visit_library_in_Sunday\": True},\n",
    "    {\"age\": 19, \"male\": True,  \"single\": True,  \"visit_library_in_Sunday\": True},\n",
    "    {\"age\": 19, \"male\": False, \"single\": False, \"visit_library_in_Sunday\": False},\n",
    "    \n",
    "    {\"age\": 20, \"male\": False, \"single\": False, \"visit_library_in_Sunday\": False},\n",
    "    {\"age\": 20, \"male\": False, \"single\": False, \"visit_library_in_Sunday\": False},\n",
    "    {\"age\": 20, \"male\": True,  \"single\": True,  \"visit_library_in_Sunday\": True},\n",
    "    {\"age\": 20, \"male\": False, \"single\": True,  \"visit_library_in_Sunday\": True},\n",
    "    {\"age\": 20, \"male\": False, \"single\": True,  \"visit_library_in_Sunday\": True},\n",
    "    \n",
    "    {\"age\": 21, \"male\": False, \"single\": True,  \"visit_library_in_Sunday\": True},\n",
    "    {\"age\": 21, \"male\": False, \"single\": True,  \"visit_library_in_Sunday\": True},\n",
    "    {\"age\": 21, \"male\": True,  \"single\": False, \"visit_library_in_Sunday\": True},\n",
    "    {\"age\": 21, \"male\": True,  \"single\": False, \"visit_library_in_Sunday\": True},\n",
    "    {\"age\": 21, \"male\": False, \"single\": False, \"visit_library_in_Sunday\": False}\n",
    "]   \n",
    "    \n",
    "        \n",
    "my_tree = decision_tree(\\\n",
    "    [\"age\", \"male\", \"single\"], \"visit_library_in_Sunday\", dataset)\n",
    "\n",
    "# Test 1:\n",
    "print(my_tree.output_entropy(), \"should be around 0.971\")\n",
    "\n",
    "# Test 2:\n",
    "print(my_tree.conditional_entropy(\"age\"), \"should be around 0.888\")\n",
    "\n",
    "# Test 3:\n",
    "print(my_tree.feature_selection(), \"should be single\")\n"
   ]
  },
  {
   "cell_type": "code",
   "execution_count": 5,
   "id": "06de3f12",
   "metadata": {},
   "outputs": [
    {
     "name": "stdout",
     "output_type": "stream",
     "text": [
      "Classification accuracy: 0.8\n"
     ]
    }
   ],
   "source": [
    "def tree_example(data):\n",
    "    if data[\"single\"]:\n",
    "        return True\n",
    "    else:\n",
    "        return False\n",
    "    \n",
    "true_classification = 0\n",
    "    \n",
    "for data in dataset:\n",
    "    if tree_example(data) == data[\"visit_library_in_Sunday\"]:\n",
    "        true_classification += 1\n",
    "    \n",
    "print(\"Classification accuracy:\", true_classification/len(dataset))"
   ]
  },
  {
   "cell_type": "code",
   "execution_count": null,
   "id": "da0f169d",
   "metadata": {},
   "outputs": [],
   "source": []
  }
 ],
 "metadata": {
  "kernelspec": {
   "display_name": "Python 3 (ipykernel)",
   "language": "python",
   "name": "python3"
  },
  "language_info": {
   "codemirror_mode": {
    "name": "ipython",
    "version": 3
   },
   "file_extension": ".py",
   "mimetype": "text/x-python",
   "name": "python",
   "nbconvert_exporter": "python",
   "pygments_lexer": "ipython3",
   "version": "3.8.10"
  }
 },
 "nbformat": 4,
 "nbformat_minor": 5
}
